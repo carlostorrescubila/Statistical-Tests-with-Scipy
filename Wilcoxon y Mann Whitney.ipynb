{
 "cells": [
  {
   "cell_type": "markdown",
   "metadata": {},
   "source": [
    "# Wilcoxon & U de Mann-Withney"
   ]
  },
  {
   "cell_type": "code",
   "execution_count": 1,
   "metadata": {},
   "outputs": [],
   "source": [
    "import pandas as pd\n",
    "import scipy.stats as stats\n",
    "import matplotlib.pyplot as plt\n",
    "import seaborn as sns"
   ]
  },
  {
   "cell_type": "markdown",
   "metadata": {},
   "source": [
    "# 1. Wilcoxon\n",
    "## 1.1 Cargar librería y base de datos"
   ]
  },
  {
   "cell_type": "code",
   "execution_count": 2,
   "metadata": {},
   "outputs": [],
   "source": [
    "w_data=pd.read_excel('Wilcoxon_Data.xlsx')"
   ]
  },
  {
   "cell_type": "code",
   "execution_count": 3,
   "metadata": {},
   "outputs": [
    {
     "data": {
      "text/html": [
       "<div>\n",
       "<style scoped>\n",
       "    .dataframe tbody tr th:only-of-type {\n",
       "        vertical-align: middle;\n",
       "    }\n",
       "\n",
       "    .dataframe tbody tr th {\n",
       "        vertical-align: top;\n",
       "    }\n",
       "\n",
       "    .dataframe thead th {\n",
       "        text-align: right;\n",
       "    }\n",
       "</style>\n",
       "<table border=\"1\" class=\"dataframe\">\n",
       "  <thead>\n",
       "    <tr style=\"text-align: right;\">\n",
       "      <th></th>\n",
       "      <th>valor</th>\n",
       "      <th>clase</th>\n",
       "    </tr>\n",
       "  </thead>\n",
       "  <tbody>\n",
       "    <tr>\n",
       "      <th>0</th>\n",
       "      <td>6.2</td>\n",
       "      <td>Antes</td>\n",
       "    </tr>\n",
       "    <tr>\n",
       "      <th>1</th>\n",
       "      <td>5.8</td>\n",
       "      <td>Antes</td>\n",
       "    </tr>\n",
       "    <tr>\n",
       "      <th>2</th>\n",
       "      <td>6.4</td>\n",
       "      <td>Antes</td>\n",
       "    </tr>\n",
       "    <tr>\n",
       "      <th>3</th>\n",
       "      <td>5.3</td>\n",
       "      <td>Antes</td>\n",
       "    </tr>\n",
       "    <tr>\n",
       "      <th>4</th>\n",
       "      <td>5.0</td>\n",
       "      <td>Antes</td>\n",
       "    </tr>\n",
       "  </tbody>\n",
       "</table>\n",
       "</div>"
      ],
      "text/plain": [
       "   valor  clase\n",
       "0    6.2  Antes\n",
       "1    5.8  Antes\n",
       "2    6.4  Antes\n",
       "3    5.3  Antes\n",
       "4    5.0  Antes"
      ]
     },
     "execution_count": 3,
     "metadata": {},
     "output_type": "execute_result"
    }
   ],
   "source": [
    "w_data.head()"
   ]
  },
  {
   "cell_type": "markdown",
   "metadata": {},
   "source": [
    "## 1.2 Supuestos del test de Wilcoxon\n",
    "El único supuesto que deben seguir los datos es que sean ordinales.\n",
    "No requiere supuesto de normalidad ni de homocedasticidad."
   ]
  },
  {
   "cell_type": "markdown",
   "metadata": {},
   "source": [
    "#### Hipóteisis\n",
    "$$\\begin{cases} { H }_{ 0 }: {Med}_{dif}=0 \\\\ { H }_{ 1 }: {Med}_{dif}\\ne 0 \\end{cases}$$"
   ]
  },
  {
   "cell_type": "markdown",
   "metadata": {},
   "source": [
    "## 1.3 Test de Wilcoxon"
   ]
  },
  {
   "cell_type": "code",
   "execution_count": 26,
   "metadata": {},
   "outputs": [
    {
     "name": "stdout",
     "output_type": "stream",
     "text": [
      "Estadístico de contraste : 1764.0\n",
      "P-valor: 0.00012161475217272842\n"
     ]
    }
   ],
   "source": [
    "W_statistic, Pvalue = stats.wilcoxon(w_data['valor'][w_data['clase']=='Antes'],\n",
    "                                        w_data['valor'][w_data['clase']=='Después'], \n",
    "                                        zero_method='wilcox', correction=False)\n",
    "\n",
    "print('Estadístico de contraste : ' + str(W_statistic))\n",
    "print('P-valor: ' + str(Pvalue))"
   ]
  },
  {
   "cell_type": "markdown",
   "metadata": {},
   "source": [
    "Pvalor <= 0.05, por lo que existen evidencias para decir que ambos grupos son distintos."
   ]
  },
  {
   "cell_type": "markdown",
   "metadata": {},
   "source": [
    "# 2. U de Mann-Withney\n",
    "## 2.1 Cargar base de datos\n",
    "###  Lista con los nombres de las variables del dataframe"
   ]
  },
  {
   "cell_type": "code",
   "execution_count": 8,
   "metadata": {},
   "outputs": [],
   "source": [
    "from sklearn.datasets import load_wine\n",
    "\n",
    "wine_names = load_wine()\n",
    "names = wine_names['feature_names']\n",
    "names.append('class')"
   ]
  },
  {
   "cell_type": "markdown",
   "metadata": {},
   "source": [
    "### Construcción del dataframe"
   ]
  },
  {
   "cell_type": "code",
   "execution_count": 12,
   "metadata": {},
   "outputs": [
    {
     "data": {
      "text/html": [
       "<div>\n",
       "<style scoped>\n",
       "    .dataframe tbody tr th:only-of-type {\n",
       "        vertical-align: middle;\n",
       "    }\n",
       "\n",
       "    .dataframe tbody tr th {\n",
       "        vertical-align: top;\n",
       "    }\n",
       "\n",
       "    .dataframe thead th {\n",
       "        text-align: right;\n",
       "    }\n",
       "</style>\n",
       "<table border=\"1\" class=\"dataframe\">\n",
       "  <thead>\n",
       "    <tr style=\"text-align: right;\">\n",
       "      <th></th>\n",
       "      <th>alcohol</th>\n",
       "      <th>malic_acid</th>\n",
       "      <th>ash</th>\n",
       "      <th>alcalinity_of_ash</th>\n",
       "      <th>magnesium</th>\n",
       "      <th>total_phenols</th>\n",
       "      <th>flavanoids</th>\n",
       "      <th>nonflavanoid_phenols</th>\n",
       "      <th>proanthocyanins</th>\n",
       "      <th>color_intensity</th>\n",
       "      <th>hue</th>\n",
       "      <th>od280/od315_of_diluted_wines</th>\n",
       "      <th>proline</th>\n",
       "      <th>class</th>\n",
       "    </tr>\n",
       "  </thead>\n",
       "  <tbody>\n",
       "    <tr>\n",
       "      <th>0</th>\n",
       "      <td>14.23</td>\n",
       "      <td>1.71</td>\n",
       "      <td>2.43</td>\n",
       "      <td>15.6</td>\n",
       "      <td>127.0</td>\n",
       "      <td>2.80</td>\n",
       "      <td>3.06</td>\n",
       "      <td>0.28</td>\n",
       "      <td>2.29</td>\n",
       "      <td>5.64</td>\n",
       "      <td>1.04</td>\n",
       "      <td>3.92</td>\n",
       "      <td>1065.0</td>\n",
       "      <td>class_0</td>\n",
       "    </tr>\n",
       "    <tr>\n",
       "      <th>1</th>\n",
       "      <td>13.20</td>\n",
       "      <td>1.78</td>\n",
       "      <td>2.14</td>\n",
       "      <td>11.2</td>\n",
       "      <td>100.0</td>\n",
       "      <td>2.65</td>\n",
       "      <td>2.76</td>\n",
       "      <td>0.26</td>\n",
       "      <td>1.28</td>\n",
       "      <td>4.38</td>\n",
       "      <td>1.05</td>\n",
       "      <td>3.40</td>\n",
       "      <td>1050.0</td>\n",
       "      <td>class_0</td>\n",
       "    </tr>\n",
       "    <tr>\n",
       "      <th>2</th>\n",
       "      <td>13.16</td>\n",
       "      <td>2.36</td>\n",
       "      <td>2.67</td>\n",
       "      <td>18.6</td>\n",
       "      <td>101.0</td>\n",
       "      <td>2.80</td>\n",
       "      <td>3.24</td>\n",
       "      <td>0.30</td>\n",
       "      <td>2.81</td>\n",
       "      <td>5.68</td>\n",
       "      <td>1.03</td>\n",
       "      <td>3.17</td>\n",
       "      <td>1185.0</td>\n",
       "      <td>class_0</td>\n",
       "    </tr>\n",
       "    <tr>\n",
       "      <th>3</th>\n",
       "      <td>14.37</td>\n",
       "      <td>1.95</td>\n",
       "      <td>2.50</td>\n",
       "      <td>16.8</td>\n",
       "      <td>113.0</td>\n",
       "      <td>3.85</td>\n",
       "      <td>3.49</td>\n",
       "      <td>0.24</td>\n",
       "      <td>2.18</td>\n",
       "      <td>7.80</td>\n",
       "      <td>0.86</td>\n",
       "      <td>3.45</td>\n",
       "      <td>1480.0</td>\n",
       "      <td>class_0</td>\n",
       "    </tr>\n",
       "    <tr>\n",
       "      <th>4</th>\n",
       "      <td>13.24</td>\n",
       "      <td>2.59</td>\n",
       "      <td>2.87</td>\n",
       "      <td>21.0</td>\n",
       "      <td>118.0</td>\n",
       "      <td>2.80</td>\n",
       "      <td>2.69</td>\n",
       "      <td>0.39</td>\n",
       "      <td>1.82</td>\n",
       "      <td>4.32</td>\n",
       "      <td>1.04</td>\n",
       "      <td>2.93</td>\n",
       "      <td>735.0</td>\n",
       "      <td>class_0</td>\n",
       "    </tr>\n",
       "  </tbody>\n",
       "</table>\n",
       "</div>"
      ],
      "text/plain": [
       "   alcohol  malic_acid   ash  alcalinity_of_ash  magnesium  total_phenols  \\\n",
       "0    14.23        1.71  2.43               15.6      127.0           2.80   \n",
       "1    13.20        1.78  2.14               11.2      100.0           2.65   \n",
       "2    13.16        2.36  2.67               18.6      101.0           2.80   \n",
       "3    14.37        1.95  2.50               16.8      113.0           3.85   \n",
       "4    13.24        2.59  2.87               21.0      118.0           2.80   \n",
       "\n",
       "   flavanoids  nonflavanoid_phenols  proanthocyanins  color_intensity   hue  \\\n",
       "0        3.06                  0.28             2.29             5.64  1.04   \n",
       "1        2.76                  0.26             1.28             4.38  1.05   \n",
       "2        3.24                  0.30             2.81             5.68  1.03   \n",
       "3        3.49                  0.24             2.18             7.80  0.86   \n",
       "4        2.69                  0.39             1.82             4.32  1.04   \n",
       "\n",
       "   od280/od315_of_diluted_wines  proline    class  \n",
       "0                          3.92   1065.0  class_0  \n",
       "1                          3.40   1050.0  class_0  \n",
       "2                          3.17   1185.0  class_0  \n",
       "3                          3.45   1480.0  class_0  \n",
       "4                          2.93    735.0  class_0  "
      ]
     },
     "execution_count": 12,
     "metadata": {},
     "output_type": "execute_result"
    }
   ],
   "source": [
    "data, target = load_wine(return_X_y=True)\n",
    "data = pd.DataFrame(data)\n",
    "target = pd.DataFrame(target)\n",
    "wine = pd.concat([data, target], axis=1)\n",
    "wine.columns = names\n",
    "wine['class'].replace({0: 'class_0', 1: 'class_2', 2: 'class_1'}, inplace = True)\n",
    "wine=pd.concat([wine[wine['class']=='class_0'], wine[wine['class']=='class_1']], axis=0)\n",
    "wine.head()"
   ]
  },
  {
   "cell_type": "markdown",
   "metadata": {},
   "source": [
    "## 2.2 Test de normalidad\n",
    "### Hipótesis:\n",
    "$$\\begin{cases} { H }_{ 0 }: la \\quad variable \\quad procede \\quad de \\quad una \\quad distribución \\quad normal \\\\ { H }_{ 1 }: la \\quad variable \\quad no \\quad procede \\quad de \\quad una \\quad distribución \\quad normal\\end{cases}$$"
   ]
  },
  {
   "cell_type": "code",
   "execution_count": 13,
   "metadata": {},
   "outputs": [
    {
     "data": {
      "text/html": [
       "<style  type=\"text/css\" >\n",
       "    #T_af61a71c_73e6_11e9_86da_708bcd0f420frow0_col0 {\n",
       "            background-color :  lightgreen;\n",
       "        }    #T_af61a71c_73e6_11e9_86da_708bcd0f420frow0_col1 {\n",
       "            background-color :  salmon;\n",
       "        }    #T_af61a71c_73e6_11e9_86da_708bcd0f420frow0_col2 {\n",
       "            background-color :  salmon;\n",
       "        }    #T_af61a71c_73e6_11e9_86da_708bcd0f420frow0_col3 {\n",
       "            background-color :  lightgreen;\n",
       "        }    #T_af61a71c_73e6_11e9_86da_708bcd0f420frow0_col4 {\n",
       "            background-color :  lightgreen;\n",
       "        }    #T_af61a71c_73e6_11e9_86da_708bcd0f420frow0_col5 {\n",
       "            background-color :  salmon;\n",
       "        }    #T_af61a71c_73e6_11e9_86da_708bcd0f420frow0_col6 {\n",
       "            background-color :  lightgreen;\n",
       "        }    #T_af61a71c_73e6_11e9_86da_708bcd0f420frow0_col7 {\n",
       "            background-color :  salmon;\n",
       "        }    #T_af61a71c_73e6_11e9_86da_708bcd0f420frow0_col8 {\n",
       "            background-color :  lightgreen;\n",
       "        }    #T_af61a71c_73e6_11e9_86da_708bcd0f420frow0_col9 {\n",
       "            background-color :  salmon;\n",
       "        }    #T_af61a71c_73e6_11e9_86da_708bcd0f420frow0_col10 {\n",
       "            background-color :  salmon;\n",
       "        }    #T_af61a71c_73e6_11e9_86da_708bcd0f420frow0_col11 {\n",
       "            background-color :  salmon;\n",
       "        }    #T_af61a71c_73e6_11e9_86da_708bcd0f420frow0_col12 {\n",
       "            background-color :  salmon;\n",
       "        }</style>  \n",
       "<table id=\"T_af61a71c_73e6_11e9_86da_708bcd0f420f\" > \n",
       "<thead>    <tr> \n",
       "        <th class=\"blank level0\" ></th> \n",
       "        <th class=\"col_heading level0 col0\" >alcohol</th> \n",
       "        <th class=\"col_heading level0 col1\" >malic_acid</th> \n",
       "        <th class=\"col_heading level0 col2\" >ash</th> \n",
       "        <th class=\"col_heading level0 col3\" >alcalinity_of_ash</th> \n",
       "        <th class=\"col_heading level0 col4\" >magnesium</th> \n",
       "        <th class=\"col_heading level0 col5\" >total_phenols</th> \n",
       "        <th class=\"col_heading level0 col6\" >flavanoids</th> \n",
       "        <th class=\"col_heading level0 col7\" >nonflavanoid_phenols</th> \n",
       "        <th class=\"col_heading level0 col8\" >proanthocyanins</th> \n",
       "        <th class=\"col_heading level0 col9\" >color_intensity</th> \n",
       "        <th class=\"col_heading level0 col10\" >hue</th> \n",
       "        <th class=\"col_heading level0 col11\" >od280/od315_of_diluted_wines</th> \n",
       "        <th class=\"col_heading level0 col12\" >proline</th> \n",
       "    </tr></thead> \n",
       "<tbody>    <tr> \n",
       "        <th id=\"T_af61a71c_73e6_11e9_86da_708bcd0f420flevel0_row0\" class=\"row_heading level0 row0\" >0</th> \n",
       "        <td id=\"T_af61a71c_73e6_11e9_86da_708bcd0f420frow0_col0\" class=\"data row0 col0\" >0.450497</td> \n",
       "        <td id=\"T_af61a71c_73e6_11e9_86da_708bcd0f420frow0_col1\" class=\"data row0 col1\" >0.00227458</td> \n",
       "        <td id=\"T_af61a71c_73e6_11e9_86da_708bcd0f420frow0_col2\" class=\"data row0 col2\" >0.0450865</td> \n",
       "        <td id=\"T_af61a71c_73e6_11e9_86da_708bcd0f420frow0_col3\" class=\"data row0 col3\" >0.954489</td> \n",
       "        <td id=\"T_af61a71c_73e6_11e9_86da_708bcd0f420frow0_col4\" class=\"data row0 col4\" >0.102813</td> \n",
       "        <td id=\"T_af61a71c_73e6_11e9_86da_708bcd0f420frow0_col5\" class=\"data row0 col5\" >7.46603e-05</td> \n",
       "        <td id=\"T_af61a71c_73e6_11e9_86da_708bcd0f420frow0_col6\" class=\"data row0 col6\" >0.923424</td> \n",
       "        <td id=\"T_af61a71c_73e6_11e9_86da_708bcd0f420frow0_col7\" class=\"data row0 col7\" >0.00352042</td> \n",
       "        <td id=\"T_af61a71c_73e6_11e9_86da_708bcd0f420frow0_col8\" class=\"data row0 col8\" >0.210936</td> \n",
       "        <td id=\"T_af61a71c_73e6_11e9_86da_708bcd0f420frow0_col9\" class=\"data row0 col9\" >0.00091475</td> \n",
       "        <td id=\"T_af61a71c_73e6_11e9_86da_708bcd0f420frow0_col10\" class=\"data row0 col10\" >5.65278e-11</td> \n",
       "        <td id=\"T_af61a71c_73e6_11e9_86da_708bcd0f420frow0_col11\" class=\"data row0 col11\" >5.09902e-32</td> \n",
       "        <td id=\"T_af61a71c_73e6_11e9_86da_708bcd0f420frow0_col12\" class=\"data row0 col12\" >0.00924683</td> \n",
       "    </tr></tbody> \n",
       "</table> "
      ],
      "text/plain": [
       "<pandas.io.formats.style.Styler at 0x2ab4926e6a0>"
      ]
     },
     "execution_count": 13,
     "metadata": {},
     "output_type": "execute_result"
    }
   ],
   "source": [
    "p_values = pd.DataFrame(stats.normaltest(wine.iloc[:, :-1]).pvalue ,index = names[:-1]).T\n",
    "p_values.style.applymap(lambda x: 'background-color : lightgreen' if x>=0.05 else 'background-color : salmon')"
   ]
  },
  {
   "cell_type": "markdown",
   "metadata": {},
   "source": [
    "En verde los valores estadísticamente no significativos ( p−valor≥0.05 ) y en rojo los valores estadísticamente significativos ( p−valor<0.05 ). Anteriormente se utilizaron los datos que proceden de una distribución normal para realizar un tes de Kruscal Wallis; en este caso tomaremos los datos que sigan una distribución distinta a la normal para realizar el análisis no paramétrico de Mann-Withney."
   ]
  },
  {
   "cell_type": "markdown",
   "metadata": {},
   "source": [
    "## 2.3 Revisión de los supuestos estadísticos\n",
    "Es una técnica no paramétrica en la que se intenta comparar las medianas de dos grupos. Aunque es una técnica no paramétrica, los datos deben cumplir ciertos supuestos para que el resultado que proporcione el test sea válido:\n",
    "\n",
    "Independencia. Las muestras deben ser independientes.\n",
    "Datos ordinales. Deben poder ordenarse los datos de menor a mayor.\n",
    "Homocedasticidad. Las desviaciones estándar de los grupos deben ser iguales.\n",
    "### 2.3.1 Independencia\n",
    "Se conoce de antemano que las muestras recogidas por los grupos son independientes\n",
    "### 2.3.2 Homocedasticidad\n",
    "Para demostrar la homocedasticidad se realiza el test de Levene el cual contrasta las siguientes hipótesis\n",
    "$$\\begin{cases} { H }_{ 0 }: Varianzas \\quad iguales \\\\ { H }_{ 1 }: Varianzas \\quad distintas \\end{cases}$$"
   ]
  },
  {
   "cell_type": "code",
   "execution_count": 14,
   "metadata": {},
   "outputs": [
    {
     "data": {
      "text/plain": [
       "0.9630155799607799"
      ]
     },
     "execution_count": 14,
     "metadata": {},
     "output_type": "execute_result"
    }
   ],
   "source": [
    "stats.levene(wine['total_phenols'][wine['class'] == 'class_0'], \n",
    "             wine['total_phenols'][wine['class'] == 'class_1']).pvalue"
   ]
  },
  {
   "cell_type": "markdown",
   "metadata": {},
   "source": [
    "Por tanto no hay ninguna evidencia para rechazar la hipótesis nula."
   ]
  },
  {
   "cell_type": "markdown",
   "metadata": {},
   "source": [
    "## 2.4 Test de U Mann-Withney\n",
    "#### Hipóteisis\n",
    "$$\\begin{cases} { H }_{ 0 }: {Med}_{dif}=0 \\\\ { H }_{ 1 }: {Med}_{dif}\\ne 0 \\end{cases}$$"
   ]
  },
  {
   "cell_type": "code",
   "execution_count": 23,
   "metadata": {},
   "outputs": [
    {
     "name": "stdout",
     "output_type": "stream",
     "text": [
      "Estadístico de contraste : 44.0\n",
      "P-valor: 4.2168923521426366e-18\n"
     ]
    }
   ],
   "source": [
    "U_statistic, Pvalue = stats.mannwhitneyu(wine['total_phenols'][wine['class'] == 'class_0'],\n",
    "                                       wine['total_phenols'][wine['class'] == 'class_1'])\n",
    "\n",
    "print('Estadístico de contraste : ' + str(U_statistic))\n",
    "print('P-valor: ' + str(Pvalue))"
   ]
  },
  {
   "cell_type": "markdown",
   "metadata": {},
   "source": [
    "El P-valor es menor que 0.05, por lo que existen evidencias para rechazar la hipótesis nula. Es decir, se puede afirmar que ambos grupos poseen medianas distintas."
   ]
  },
  {
   "cell_type": "markdown",
   "metadata": {},
   "source": [
    "### BOX-PLOT"
   ]
  },
  {
   "cell_type": "code",
   "execution_count": 18,
   "metadata": {},
   "outputs": [
    {
     "data": {
      "text/plain": [
       "<matplotlib.axes._subplots.AxesSubplot at 0x2ab4af7b320>"
      ]
     },
     "execution_count": 18,
     "metadata": {},
     "output_type": "execute_result"
    },
    {
     "data": {
      "image/png": "[encoded data removed]",
      "text/plain": [
       "<Figure size 504x504 with 1 Axes>"
      ]
     },
     "metadata": {
      "needs_background": "light"
     },
     "output_type": "display_data"
    }
   ],
   "source": [
    "plt.figure(figsize=(7,7))\n",
    "sns.boxplot(x=\"class\", y=\"total_phenols\", data=wine)"
   ]
  }
 ],
 "metadata": {
  "kernelspec": {
   "display_name": "Python 3",
   "language": "python",
   "name": "python3"
  },
  "language_info": {
   "codemirror_mode": {
    "name": "ipython",
    "version": 3
   },
   "file_extension": ".py",
   "mimetype": "text/x-python",
   "name": "python",
   "nbconvert_exporter": "python",
   "pygments_lexer": "ipython3",
   "version": "3.7.0"
  }
 },
 "nbformat": 4,
 "nbformat_minor": 2
}
