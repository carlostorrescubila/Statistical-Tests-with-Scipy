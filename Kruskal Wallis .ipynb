{
 "cells": [
  {
   "cell_type": "markdown",
   "metadata": {
    "slideshow": {
     "slide_type": "slide"
    }
   },
   "source": [
    "# Kruskal-Wallis"
   ]
  },
  {
   "cell_type": "code",
   "execution_count": 1,
   "metadata": {},
   "outputs": [],
   "source": [
    "import pandas as pd\n",
    "import matplotlib.pyplot as plt\n",
    "import seaborn as sns\n",
    "import scipy.stats as stats"
   ]
  },
  {
   "cell_type": "markdown",
   "metadata": {
    "slideshow": {
     "slide_type": "slide"
    }
   },
   "source": [
    "## 1. Cargar base de datos\n",
    "### *Lista con los nombres de las variables del dataframe"
   ]
  },
  {
   "cell_type": "code",
   "execution_count": 2,
   "metadata": {
    "slideshow": {
     "slide_type": "slide"
    }
   },
   "outputs": [],
   "source": [
    "from sklearn.datasets import load_wine\n",
    "\n",
    "wine_names = load_wine()\n",
    "names = wine_names['feature_names']\n",
    "names.append('class')"
   ]
  },
  {
   "cell_type": "markdown",
   "metadata": {
    "slideshow": {
     "slide_type": "slide"
    }
   },
   "source": [
    "### *Construcción del dataframe"
   ]
  },
  {
   "cell_type": "code",
   "execution_count": 3,
   "metadata": {},
   "outputs": [
    {
     "data": {
      "text/html": [
       "<div>\n",
       "<style scoped>\n",
       "    .dataframe tbody tr th:only-of-type {\n",
       "        vertical-align: middle;\n",
       "    }\n",
       "\n",
       "    .dataframe tbody tr th {\n",
       "        vertical-align: top;\n",
       "    }\n",
       "\n",
       "    .dataframe thead th {\n",
       "        text-align: right;\n",
       "    }\n",
       "</style>\n",
       "<table border=\"1\" class=\"dataframe\">\n",
       "  <thead>\n",
       "    <tr style=\"text-align: right;\">\n",
       "      <th></th>\n",
       "      <th>alcohol</th>\n",
       "      <th>malic_acid</th>\n",
       "      <th>ash</th>\n",
       "      <th>alcalinity_of_ash</th>\n",
       "      <th>magnesium</th>\n",
       "      <th>total_phenols</th>\n",
       "      <th>flavanoids</th>\n",
       "      <th>nonflavanoid_phenols</th>\n",
       "      <th>proanthocyanins</th>\n",
       "      <th>color_intensity</th>\n",
       "      <th>hue</th>\n",
       "      <th>od280/od315_of_diluted_wines</th>\n",
       "      <th>proline</th>\n",
       "      <th>class</th>\n",
       "    </tr>\n",
       "  </thead>\n",
       "  <tbody>\n",
       "    <tr>\n",
       "      <th>0</th>\n",
       "      <td>14.23</td>\n",
       "      <td>1.71</td>\n",
       "      <td>2.43</td>\n",
       "      <td>15.6</td>\n",
       "      <td>127.0</td>\n",
       "      <td>2.80</td>\n",
       "      <td>3.06</td>\n",
       "      <td>0.28</td>\n",
       "      <td>2.29</td>\n",
       "      <td>5.64</td>\n",
       "      <td>1.04</td>\n",
       "      <td>3.92</td>\n",
       "      <td>1065.0</td>\n",
       "      <td>class_0</td>\n",
       "    </tr>\n",
       "    <tr>\n",
       "      <th>1</th>\n",
       "      <td>13.20</td>\n",
       "      <td>1.78</td>\n",
       "      <td>2.14</td>\n",
       "      <td>11.2</td>\n",
       "      <td>100.0</td>\n",
       "      <td>2.65</td>\n",
       "      <td>2.76</td>\n",
       "      <td>0.26</td>\n",
       "      <td>1.28</td>\n",
       "      <td>4.38</td>\n",
       "      <td>1.05</td>\n",
       "      <td>3.40</td>\n",
       "      <td>1050.0</td>\n",
       "      <td>class_0</td>\n",
       "    </tr>\n",
       "    <tr>\n",
       "      <th>2</th>\n",
       "      <td>13.16</td>\n",
       "      <td>2.36</td>\n",
       "      <td>2.67</td>\n",
       "      <td>18.6</td>\n",
       "      <td>101.0</td>\n",
       "      <td>2.80</td>\n",
       "      <td>3.24</td>\n",
       "      <td>0.30</td>\n",
       "      <td>2.81</td>\n",
       "      <td>5.68</td>\n",
       "      <td>1.03</td>\n",
       "      <td>3.17</td>\n",
       "      <td>1185.0</td>\n",
       "      <td>class_0</td>\n",
       "    </tr>\n",
       "  </tbody>\n",
       "</table>\n",
       "</div>"
      ],
      "text/plain": [
       "   alcohol  malic_acid   ash  alcalinity_of_ash  magnesium  total_phenols  \\\n",
       "0    14.23        1.71  2.43               15.6      127.0           2.80   \n",
       "1    13.20        1.78  2.14               11.2      100.0           2.65   \n",
       "2    13.16        2.36  2.67               18.6      101.0           2.80   \n",
       "\n",
       "   flavanoids  nonflavanoid_phenols  proanthocyanins  color_intensity   hue  \\\n",
       "0        3.06                  0.28             2.29             5.64  1.04   \n",
       "1        2.76                  0.26             1.28             4.38  1.05   \n",
       "2        3.24                  0.30             2.81             5.68  1.03   \n",
       "\n",
       "   od280/od315_of_diluted_wines  proline    class  \n",
       "0                          3.92   1065.0  class_0  \n",
       "1                          3.40   1050.0  class_0  \n",
       "2                          3.17   1185.0  class_0  "
      ]
     },
     "execution_count": 3,
     "metadata": {},
     "output_type": "execute_result"
    }
   ],
   "source": [
    "data, target = load_wine(return_X_y=True)\n",
    "data = pd.DataFrame(data)\n",
    "target = pd.DataFrame(target)\n",
    "wine = pd.concat([data, target], axis=1)\n",
    "wine.columns = names\n",
    "wine['class'].replace({0: 'class_0', 1: 'class_1', 2: 'class_2'}, inplace = True)\n",
    "wine.head(3)"
   ]
  },
  {
   "cell_type": "markdown",
   "metadata": {
    "slideshow": {
     "slide_type": "slide"
    }
   },
   "source": [
    "## 2. Test de normalidad"
   ]
  },
  {
   "cell_type": "markdown",
   "metadata": {
    "slideshow": {
     "slide_type": "slide"
    }
   },
   "source": [
    "### Hipótesis:\n",
    "$$\\begin{cases} \n",
    "{ H }_{ 0 }: la \\quad variable \\quad procede \\quad de \\quad una \\quad distribucion \\quad normal \\\\ \n",
    "{ H }_{ 1 }: la \\quad variable \\quad no \\quad procede \\quad de \\quad una \\quad distribucion \\quad normal\n",
    "\\end{cases}$$"
   ]
  },
  {
   "cell_type": "code",
   "execution_count": 4,
   "metadata": {
    "slideshow": {
     "slide_type": "slide"
    }
   },
   "outputs": [
    {
     "data": {
      "text/html": [
       "<style  type=\"text/css\" >\n",
       "    #T_e6506c46_73e9_11e9_b0fd_708bcd0f420frow0_col0 {\n",
       "            background-color :  salmon;\n",
       "        }    #T_e6506c46_73e9_11e9_b0fd_708bcd0f420frow0_col1 {\n",
       "            background-color :  salmon;\n",
       "        }    #T_e6506c46_73e9_11e9_b0fd_708bcd0f420frow0_col2 {\n",
       "            background-color :  salmon;\n",
       "        }    #T_e6506c46_73e9_11e9_b0fd_708bcd0f420frow0_col3 {\n",
       "            background-color :  lightgreen;\n",
       "        }    #T_e6506c46_73e9_11e9_b0fd_708bcd0f420frow0_col4 {\n",
       "            background-color :  salmon;\n",
       "        }    #T_e6506c46_73e9_11e9_b0fd_708bcd0f420frow0_col5 {\n",
       "            background-color :  salmon;\n",
       "        }    #T_e6506c46_73e9_11e9_b0fd_708bcd0f420frow0_col6 {\n",
       "            background-color :  salmon;\n",
       "        }    #T_e6506c46_73e9_11e9_b0fd_708bcd0f420frow0_col7 {\n",
       "            background-color :  salmon;\n",
       "        }    #T_e6506c46_73e9_11e9_b0fd_708bcd0f420frow0_col8 {\n",
       "            background-color :  salmon;\n",
       "        }    #T_e6506c46_73e9_11e9_b0fd_708bcd0f420frow0_col9 {\n",
       "            background-color :  salmon;\n",
       "        }    #T_e6506c46_73e9_11e9_b0fd_708bcd0f420frow0_col10 {\n",
       "            background-color :  lightgreen;\n",
       "        }    #T_e6506c46_73e9_11e9_b0fd_708bcd0f420frow0_col11 {\n",
       "            background-color :  salmon;\n",
       "        }    #T_e6506c46_73e9_11e9_b0fd_708bcd0f420frow0_col12 {\n",
       "            background-color :  salmon;\n",
       "        }</style>  \n",
       "<table id=\"T_e6506c46_73e9_11e9_b0fd_708bcd0f420f\" > \n",
       "<thead>    <tr> \n",
       "        <th class=\"blank level0\" ></th> \n",
       "        <th class=\"col_heading level0 col0\" >alcohol</th> \n",
       "        <th class=\"col_heading level0 col1\" >malic_acid</th> \n",
       "        <th class=\"col_heading level0 col2\" >ash</th> \n",
       "        <th class=\"col_heading level0 col3\" >alcalinity_of_ash</th> \n",
       "        <th class=\"col_heading level0 col4\" >magnesium</th> \n",
       "        <th class=\"col_heading level0 col5\" >total_phenols</th> \n",
       "        <th class=\"col_heading level0 col6\" >flavanoids</th> \n",
       "        <th class=\"col_heading level0 col7\" >nonflavanoid_phenols</th> \n",
       "        <th class=\"col_heading level0 col8\" >proanthocyanins</th> \n",
       "        <th class=\"col_heading level0 col9\" >color_intensity</th> \n",
       "        <th class=\"col_heading level0 col10\" >hue</th> \n",
       "        <th class=\"col_heading level0 col11\" >od280/od315_of_diluted_wines</th> \n",
       "        <th class=\"col_heading level0 col12\" >proline</th> \n",
       "    </tr></thead> \n",
       "<tbody>    <tr> \n",
       "        <th id=\"T_e6506c46_73e9_11e9_b0fd_708bcd0f420flevel0_row0\" class=\"row_heading level0 row0\" >0</th> \n",
       "        <td id=\"T_e6506c46_73e9_11e9_b0fd_708bcd0f420frow0_col0\" class=\"data row0 col0\" >0.000341632</td> \n",
       "        <td id=\"T_e6506c46_73e9_11e9_b0fd_708bcd0f420frow0_col1\" class=\"data row0 col1\" >3.17422e-06</td> \n",
       "        <td id=\"T_e6506c46_73e9_11e9_b0fd_708bcd0f420frow0_col2\" class=\"data row0 col2\" >0.036316</td> \n",
       "        <td id=\"T_e6506c46_73e9_11e9_b0fd_708bcd0f420frow0_col3\" class=\"data row0 col3\" >0.210043</td> \n",
       "        <td id=\"T_e6506c46_73e9_11e9_b0fd_708bcd0f420frow0_col4\" class=\"data row0 col4\" >4.65888e-09</td> \n",
       "        <td id=\"T_e6506c46_73e9_11e9_b0fd_708bcd0f420frow0_col5\" class=\"data row0 col5\" >0.000555667</td> \n",
       "        <td id=\"T_e6506c46_73e9_11e9_b0fd_708bcd0f420frow0_col6\" class=\"data row0 col6\" >0.000126933</td> \n",
       "        <td id=\"T_e6506c46_73e9_11e9_b0fd_708bcd0f420frow0_col7\" class=\"data row0 col7\" >0.0026647</td> \n",
       "        <td id=\"T_e6506c46_73e9_11e9_b0fd_708bcd0f420frow0_col8\" class=\"data row0 col8\" >0.00800081</td> \n",
       "        <td id=\"T_e6506c46_73e9_11e9_b0fd_708bcd0f420frow0_col9\" class=\"data row0 col9\" >5.31948e-05</td> \n",
       "        <td id=\"T_e6506c46_73e9_11e9_b0fd_708bcd0f420frow0_col10\" class=\"data row0 col10\" >0.594729</td> \n",
       "        <td id=\"T_e6506c46_73e9_11e9_b0fd_708bcd0f420frow0_col11\" class=\"data row0 col11\" >4.87898e-11</td> \n",
       "        <td id=\"T_e6506c46_73e9_11e9_b0fd_708bcd0f420frow0_col12\" class=\"data row0 col12\" >0.000425646</td> \n",
       "    </tr></tbody> \n",
       "</table> "
      ],
      "text/plain": [
       "<pandas.io.formats.style.Styler at 0x1b48251ab00>"
      ]
     },
     "execution_count": 4,
     "metadata": {},
     "output_type": "execute_result"
    }
   ],
   "source": [
    "p_values = pd.DataFrame(stats.normaltest(wine.iloc[:, :-1]).pvalue ,index = names[:-1]).T\n",
    "p_values.style.applymap(lambda x: 'background-color : lightgreen' if x>=0.05 else 'background-color : salmon')"
   ]
  },
  {
   "cell_type": "markdown",
   "metadata": {
    "slideshow": {
     "slide_type": "slide"
    }
   },
   "source": [
    "En verde los valores estadísticamente no significativos ($p-valor \\ge 0.05$) y en rojo los valores estadísticamente significativos ($p-valor<0.05$)"
   ]
  },
  {
   "cell_type": "markdown",
   "metadata": {
    "slideshow": {
     "slide_type": "slide"
    }
   },
   "source": [
    "## 2. Test de Homocedasticidad\n",
    "### Hipótesis:\n",
    "$$\\begin{cases} \n",
    "{ H }_{ 0 }: los \\quad grupos \\quad tienen \\quad varianzas \\quad iguales \\\\ \n",
    "{ H }_{ 1 }: los \\quad grupos \\quad no \\quad tienen \\quad varianzas \\quad iguales\n",
    "\\end{cases}$$"
   ]
  },
  {
   "cell_type": "code",
   "execution_count": 5,
   "metadata": {
    "slideshow": {
     "slide_type": "slide"
    }
   },
   "outputs": [
    {
     "data": {
      "text/plain": [
       "0.519719468148651"
      ]
     },
     "execution_count": 5,
     "metadata": {},
     "output_type": "execute_result"
    }
   ],
   "source": [
    "stats.levene(wine['magnesium'][wine['class'] == 'class_0'], \n",
    "              wine['magnesium'][wine['class'] == 'class_1'],\n",
    "              wine['magnesium'][wine['class'] == 'class_2']).pvalue"
   ]
  },
  {
   "cell_type": "markdown",
   "metadata": {
    "slideshow": {
     "slide_type": "slide"
    }
   },
   "source": [
    "## 3. Aplicar test estadístico"
   ]
  },
  {
   "cell_type": "markdown",
   "metadata": {
    "slideshow": {
     "slide_type": "slide"
    }
   },
   "source": [
    "El test de Kruskal-Wallis es la alternativa no paramétrica al test ANOVA de un factor para grupos independientes. En esta tecnica se comparan las medias de tres o más grupos. Las hpótesis a contrastar son parecidas a las usadas en el ANOVA, sustituyendo las medias ($\\mu$) por las medianas (med).\n",
    "#### Hipótesis:\n",
    "$$\\begin{cases} { H }_{ 0 }: { med  }_{ i }={ med  }_{ j } \\\\ { H }_{ 1 }: { med  }_{ i }\\neq { med  }_{ j } \\end{cases} \\quad \\forall i\\neq j$$\n",
    "\n",
    "Se realiza la ANOVA para encontrar diferencia en el matiz (\"hue\") entre las tres clases de vinos"
   ]
  },
  {
   "cell_type": "code",
   "execution_count": 10,
   "metadata": {
    "slideshow": {
     "slide_type": "slide"
    }
   },
   "outputs": [
    {
     "name": "stdout",
     "output_type": "stream",
     "text": [
      "Estadístico de contraste: 40.57642421992753\n",
      "P-valor: 1.5450460673846685e-09\n"
     ]
    }
   ],
   "source": [
    "KS_statistic, Pvalue=stats.kruskal(wine['magnesium'][wine['class'] == 'class_0'], \n",
    "                                    wine['magnesium'][wine['class'] == 'class_1'],\n",
    "                                    wine['magnesium'][wine['class'] == 'class_2'])\n",
    "\n",
    "print('Estadístico de contraste: ' + str(KS_statistic))\n",
    "print('P-valor: ' + str(Pvalue))"
   ]
  },
  {
   "cell_type": "markdown",
   "metadata": {
    "slideshow": {
     "slide_type": "slide"
    }
   },
   "source": [
    "El P-valor es menor que 0.05, por lo que existen evidencias para rechazar la hipótesis nula. Al menos una de las medias de los grupos es distinta"
   ]
  },
  {
   "cell_type": "code",
   "execution_count": 7,
   "metadata": {
    "slideshow": {
     "slide_type": "slide"
    }
   },
   "outputs": [
    {
     "data": {
      "text/plain": [
       "<matplotlib.axes._subplots.AxesSubplot at 0x1b48251ada0>"
      ]
     },
     "execution_count": 7,
     "metadata": {},
     "output_type": "execute_result"
    },
    {
     "data": {
      "image/png": "[encoded data removed]",
      "text/plain": [
       "<Figure size 504x504 with 1 Axes>"
      ]
     },
     "metadata": {
      "needs_background": "light"
     },
     "output_type": "display_data"
    }
   ],
   "source": [
    "plt.figure(figsize=(7,7))\n",
    "sns.boxplot(x=\"class\", y=\"magnesium\", data=wine)"
   ]
  }
 ],
 "metadata": {
  "kernelspec": {
   "display_name": "Python 3",
   "language": "python",
   "name": "python3"
  },
  "language_info": {
   "codemirror_mode": {
    "name": "ipython",
    "version": 3
   },
   "file_extension": ".py",
   "mimetype": "text/x-python",
   "name": "python",
   "nbconvert_exporter": "python",
   "pygments_lexer": "ipython3",
   "version": "3.7.0"
  }
 },
 "nbformat": 4,
 "nbformat_minor": 2
}
